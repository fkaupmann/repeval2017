{
 "cells": [
  {
   "cell_type": "markdown",
   "metadata": {},
   "source": [
    "## Exploration of explicitly encoding Lexical Patterns into Neural Models"
   ]
  },
  {
   "cell_type": "code",
   "execution_count": 1,
   "metadata": {
    "collapsed": false
   },
   "outputs": [
    {
     "name": "stdout",
     "output_type": "stream",
     "text": [
      "Lexical Exploration.ipynb  composition_learning.py\r\n",
      "README.md                  evaluation.py\r\n",
      "\u001b[34m__pycache__\u001b[m\u001b[m/               file_util.py\r\n"
     ]
    }
   ],
   "source": [
    "%ls"
   ]
  },
  {
   "cell_type": "code",
   "execution_count": 13,
   "metadata": {
    "collapsed": false
   },
   "outputs": [
    {
     "name": "stdout",
     "output_type": "stream",
     "text": [
      "GoogleNews-vectors-negative300.bin     notes.txt\r\n",
      "GoogleNews-vectors-negative300.bin.gz  \u001b[34mrepeval2017\u001b[m\u001b[m/\r\n",
      "amod.train.filtered\r\n"
     ]
    }
   ],
   "source": [
    "%ls .."
   ]
  },
  {
   "cell_type": "code",
   "execution_count": 2,
   "metadata": {
    "collapsed": false
   },
   "outputs": [
    {
     "name": "stderr",
     "output_type": "stream",
     "text": [
      "Using Theano backend.\n"
     ]
    }
   ],
   "source": [
    "import numpy as np\n",
    "import composition_learning\n",
    "from gensim.models import KeyedVectors as embedding_model"
   ]
  },
  {
   "cell_type": "markdown",
   "metadata": {},
   "source": [
    "Zunächst erstmal Zielnomen, Nomen, Adjektive aus tsv-File laden"
   ]
  },
  {
   "cell_type": "code",
   "execution_count": 3,
   "metadata": {
    "collapsed": false
   },
   "outputs": [],
   "source": [
    "import csv\n",
    "path_to_adj_noun_file = \"../amod.train.filtered\"\n",
    "gnoun_noun_adj_list = [] #a list of lists, each sublist containing a goal-noun, noun, adjective triple\n",
    "goal_noun_list = [] #only the goal nouns, needed for functions from composition_learning.py.\n",
    "with open(path_to_adj_noun_file, \"r\") as tsv_file:\n",
    "    tsv_reader = csv.reader(tsv_file, delimiter='\\t')\n",
    "    for row in tsv_reader:\n",
    "        gnoun_noun_adj_list.append(row)\n",
    "        goal_noun_list.append(row[0].upper())"
   ]
  },
  {
   "cell_type": "markdown",
   "metadata": {},
   "source": [
    "Danach Word Embeddings aus Modell laden:"
   ]
  },
  {
   "cell_type": "code",
   "execution_count": null,
   "metadata": {
    "collapsed": false
   },
   "outputs": [],
   "source": [
    "path_to_word_embeddings = \"../GoogleNews-vectors-negative300.bin\"\n",
    "vector_space = embedding_model.load_word2vec_format(path_to_word_embeddings, binary=True)"
   ]
  },
  {
   "cell_type": "markdown",
   "metadata": {},
   "source": [
    "Daten in das richtige Format für das Keras-Modell bringen:"
   ]
  },
  {
   "cell_type": "code",
   "execution_count": 16,
   "metadata": {
    "collapsed": false
   },
   "outputs": [],
   "source": [
    "training_data, training_labels, not_in_list = composition_learning.construct_data_and_labels(gnoun_noun_adj_list,\n",
    "                                                                                             vector_space,\n",
    "                                                                                             goal_noun_list,\n",
    "                                                                                             verbosity = 0\n",
    "                                                                                            )"
   ]
  },
  {
   "cell_type": "markdown",
   "metadata": {},
   "source": [
    "Das Modell trainieren:"
   ]
  },
  {
   "cell_type": "code",
   "execution_count": 15,
   "metadata": {
    "collapsed": false
   },
   "outputs": [
    {
     "name": "stdout",
     "output_type": "stream",
     "text": [
      "Trainiere NN mit mode weighted_adj_and_noun_add_identity...\n"
     ]
    }
   ],
   "source": [
    "model = composition_learning.train_model(training_data, training_labels, \n",
    "                                         composition_mode = 'weighted_adj_and_noun_add_identity', verbosity=1)"
   ]
  },
  {
   "cell_type": "markdown",
   "metadata": {},
   "source": [
    "Ein kurzer Test des Modells:"
   ]
  },
  {
   "cell_type": "code",
   "execution_count": 14,
   "metadata": {
    "collapsed": false
   },
   "outputs": [
    {
     "name": "stdout",
     "output_type": "stream",
     "text": [
      "['overfeeding', 'feeding', 'excessive']\n",
      "(1, 300)\n"
     ]
    }
   ],
   "source": [
    "goal,noun,adj = gnoun_noun_adj_list[0]\n",
    "\n",
    "\n",
    "print(test_tripel)\n",
    "\n",
    "projected_vec = model.predict(np.asarray([[vector_space[adj], vector_space[noun]]]))\n",
    "print(np.shape(projected_vec))"
   ]
  }
 ],
 "metadata": {
  "kernelspec": {
   "display_name": "Python 3",
   "language": "python",
   "name": "python3"
  },
  "language_info": {
   "codemirror_mode": {
    "name": "ipython",
    "version": 3
   },
   "file_extension": ".py",
   "mimetype": "text/x-python",
   "name": "python",
   "nbconvert_exporter": "python",
   "pygments_lexer": "ipython3",
   "version": "3.5.2"
  }
 },
 "nbformat": 4,
 "nbformat_minor": 0
}
