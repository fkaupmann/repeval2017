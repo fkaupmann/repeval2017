{
 "cells": [
  {
   "cell_type": "markdown",
   "metadata": {},
   "source": [
    "## Exploration of explicitly encoding Lexical Patterns into Neural Models"
   ]
  },
  {
   "cell_type": "code",
   "execution_count": 1,
   "metadata": {
    "collapsed": false
   },
   "outputs": [
    {
     "name": "stdout",
     "output_type": "stream",
     "text": [
      "Lexical Exploration.ipynb  composition_learning.py\r\n",
      "README.md                  file_util.py\r\n",
      "\u001b[34m__pycache__\u001b[m\u001b[m/               repeval_exploration.ipynb\r\n"
     ]
    }
   ],
   "source": [
    "%ls"
   ]
  },
  {
   "cell_type": "code",
   "execution_count": 2,
   "metadata": {
    "collapsed": false
   },
   "outputs": [
    {
     "name": "stdout",
     "output_type": "stream",
     "text": [
      "GoogleNews-vectors-negative300.bin  notes.txt\r\n",
      "amod.train.filtered                 \u001b[34mrepeval2017\u001b[m\u001b[m/\r\n"
     ]
    }
   ],
   "source": [
    "%ls .."
   ]
  },
  {
   "cell_type": "code",
   "execution_count": 3,
   "metadata": {
    "collapsed": false
   },
   "outputs": [
    {
     "name": "stderr",
     "output_type": "stream",
     "text": [
      "Using Theano backend.\n"
     ]
    }
   ],
   "source": [
    "import numpy as np\n",
    "import composition_learning\n",
    "from gensim.models import KeyedVectors as embedding_model"
   ]
  },
  {
   "cell_type": "markdown",
   "metadata": {},
   "source": [
    "Zunächst erstmal Zielnomen, Nomen, Adjektive aus tsv-File laden"
   ]
  },
  {
   "cell_type": "code",
   "execution_count": 4,
   "metadata": {
    "collapsed": false
   },
   "outputs": [],
   "source": [
    "import csv\n",
    "path_to_adj_noun_file = \"../amod.train.filtered\"\n",
    "gnoun_noun_adj_list = [] #a list of lists, each sublist containing a goal-noun, noun, adjective triple\n",
    "goal_noun_list = [] #only the goal nouns, needed for functions from composition_learning.py.\n",
    "with open(path_to_adj_noun_file, \"r\") as tsv_file:\n",
    "    tsv_reader = csv.reader(tsv_file, delimiter='\\t')\n",
    "    for row in tsv_reader:\n",
    "        gnoun_noun_adj_list.append(row)\n",
    "        goal_noun_list.append(row[0].upper())"
   ]
  },
  {
   "cell_type": "markdown",
   "metadata": {},
   "source": [
    "Danach Word Embeddings aus Modell laden:"
   ]
  },
  {
   "cell_type": "code",
   "execution_count": 5,
   "metadata": {
    "collapsed": false
   },
   "outputs": [],
   "source": [
    "path_to_word_embeddings = \"../GoogleNews-vectors-negative300.bin\"\n",
    "vector_space = embedding_model.load_word2vec_format(path_to_word_embeddings, binary=True)"
   ]
  },
  {
   "cell_type": "markdown",
   "metadata": {},
   "source": [
    "Daten in das richtige Format für das Keras-Modell bringen:"
   ]
  },
  {
   "cell_type": "code",
   "execution_count": null,
   "metadata": {
    "collapsed": false
   },
   "outputs": [],
   "source": [
    "training_data, training_labels, not_in_list = composition_learning.construct_data_and_labels(gnoun_noun_adj_list,\n",
    "                                                                                             vector_space,\n",
    "                                                                                             goal_noun_list,\n",
    "                                                                                             verbosity = 0\n",
    "                                                                                            )"
   ]
  },
  {
   "cell_type": "markdown",
   "metadata": {},
   "source": [
    "Das Modell trainieren. tensor_model bezeichnet das modell, indem adjektiv mit Tensor zusammen zu einer Matrix multipliziert wird, die dann mit Nomen-vektor multipliziert wird um wieder einen Vektor zu erhalten.\n",
    "weighted_model steht für ein additives Modell mit Gewichtigunsmatrizen für je Adjetiv und Nomen."
   ]
  },
  {
   "cell_type": "code",
   "execution_count": null,
   "metadata": {
    "collapsed": false
   },
   "outputs": [
    {
     "name": "stdout",
     "output_type": "stream",
     "text": [
      "Trainiere NN mit mode weighted_adj_and_noun_add_identity...\n",
      "Trainiere NN mit mode tensor_mult_identity...\n"
     ]
    }
   ],
   "source": [
    "tensor_model = composition_learning.train_model(training_data, training_labels, \n",
    "                                         composition_mode = 'weighted_adj_and_noun_add_identity', verbosity=1)\n",
    "\n",
    "weighted_model = composition_learning.train_model(training_data, training_labels,\n",
    "                                                composition_mode = 'tensor_mult_identity', verbosity=1)"
   ]
  },
  {
   "cell_type": "markdown",
   "metadata": {},
   "source": [
    "Um mit den Modellen Vektoren zu berechnen, tut man folgendes:"
   ]
  },
  {
   "cell_type": "code",
   "execution_count": null,
   "metadata": {
    "collapsed": true
   },
   "outputs": [],
   "source": [
    "goal_noun, noun, adj = gnoun_noun_adj_list[0]\n",
    "\n",
    "\n",
    "goal_noun_tensor_vector = tensor_model.predict(np.asarray([[vectorspace[adj], vectorspace[noun]]]))[0, 0]\n",
    "goal_noun_weighted_add_vector = weighted_model.predict(np.asarray([[vectorspace[adj], vectorspace[noun]]]))[0]"
   ]
  },
  {
   "cell_type": "markdown",
   "metadata": {
    "collapsed": true
   },
   "source": [
    "Todo:\n",
    "+ Matthias' Keras-Fehler nachvollziehen\n",
    "+ Turney Datensatz laden, in ordentliche Struktur bringen\n",
    "+ Evaluieren:\n",
    "    - Modell je den besten kandidaten wählen lassen\n",
    "         - wie viele sind korrekt gewählt? wie viele falsche sind korrekterweise nicht gewählt? (nachlesen)\n",
    "         - average rank des korrekten Kandidaten (nachlesen)"
   ]
  },
  {
   "cell_type": "markdown",
   "metadata": {
    "collapsed": true
   },
   "source": [
    "### Evaluierung"
   ]
  },
  {
   "cell_type": "markdown",
   "metadata": {},
   "source": [
    "Lade Datensatz von hier: http://jair.org/media/3640/live-3640-6413-jair.txt"
   ]
  },
  {
   "cell_type": "code",
   "execution_count": 3,
   "metadata": {
    "collapsed": false
   },
   "outputs": [
    {
     "name": "stdout",
     "output_type": "stream",
     "text": [
      "/Users/Fabian/Documents/Arbeit/AG_SD/repeval2017/data\n",
      "--2017-04-06 10:53:48--  http://jair.org/media/3640/live-3640-6413-jair.txt\n",
      "Resolving jair.org... 141.213.4.6\n",
      "Connecting to jair.org|141.213.4.6|:80... connected.\n",
      "HTTP request sent, awaiting response... 200 OK\n",
      "Length: 191220 (187K) [text/plain]\n",
      "Saving to: 'live-3640-6413-jair.txt'\n",
      "\n",
      "live-3640-6413-jair 100%[=====================>] 186.74K   258KB/s   in 0.7s   \n",
      "\n",
      "2017-04-06 10:53:49 (258 KB/s) - 'live-3640-6413-jair.txt' saved [191220/191220]\n",
      "\n",
      "GoogleNews-vectors-negative300.bin  \u001b[34msnli_1.0\u001b[m\u001b[m/\n",
      "live-3640-6413-jair.txt             snli_1.0.zip\n",
      "/Users/Fabian/Documents/Arbeit/AG_SD/repeval2017/repeval2017\n"
     ]
    }
   ],
   "source": [
    "%cd ../data/\n",
    "!wget \"http://jair.org/media/3640/live-3640-6413-jair.txt\"\n",
    "%ls\n",
    "%cd ../repeval2017/"
   ]
  },
  {
   "cell_type": "markdown",
   "metadata": {},
   "source": [
    "Evaluierungsdatensatz einlesen:"
   ]
  },
  {
   "cell_type": "code",
   "execution_count": 10,
   "metadata": {
    "collapsed": false
   },
   "outputs": [
    {
     "name": "stdout",
     "output_type": "stream",
     "text": [
      "680\n",
      "1500\n"
     ]
    }
   ],
   "source": [
    "import csv\n",
    "path_to_eval_file = \"../data/live-3640-6413-jair.txt\"\n",
    "data = []\n",
    "with open(path_to_eval_file, \"r\") as tsv_file:\n",
    "    tsv_reader = csv.reader(tsv_file, delimiter='|')\n",
    "    i = 0    \n",
    "    for row in tsv_reader:\n",
    "        if row[0][0] != '#':\n",
    "            data.append([])\n",
    "            for elem in row:\n",
    "                data[i].append(elem.strip())\n",
    "            i+=1\n",
    "\n",
    "training_data = data[0:680] #Split nach Angabe von Turney\n",
    "test_data = data[680:]\n",
    "print(len(training_data))\n",
    "print(len(test_data))"
   ]
  },
  {
   "cell_type": "code",
   "execution_count": 14,
   "metadata": {
    "collapsed": false
   },
   "outputs": [
    {
     "name": "stdout",
     "output_type": "stream",
     "text": [
      "test\n",
      "red+\n",
      "salmon+\n"
     ]
    }
   ],
   "source": [
    "def eval_model(model, vector_space, test_data, mode=)\n",
    "    for phrase, gold, one, two, three, four, five, six in test_data:\n",
    "        # berechne phrasenvektor mit modell\n",
    "        adj,noun = phrase.split()\n",
    "        phrase_vec = model.predict(np.asarray([[vectorspace[adj], vectorspace[noun]]]))[0, 0]\n",
    "        # berechne vektoren für alle targets per look up\n",
    "        # wähle den, der am ähnlichsten zu phrasenvektor (cosine dist)\n",
    "        # implementiere beide evaluationsversionen die matthias vorgeschlagen hat\n",
    "    break;"
   ]
  },
  {
   "cell_type": "code",
   "execution_count": null,
   "metadata": {
    "collapsed": true
   },
   "outputs": [],
   "source": []
  }
 ],
 "metadata": {
  "kernelspec": {
   "display_name": "Python 3",
   "language": "python",
   "name": "python3"
  },
  "language_info": {
   "codemirror_mode": {
    "name": "ipython",
    "version": 3
   },
   "file_extension": ".py",
   "mimetype": "text/x-python",
   "name": "python",
   "nbconvert_exporter": "python",
   "pygments_lexer": "ipython3",
   "version": "3.5.2"
  }
 },
 "nbformat": 4,
 "nbformat_minor": 0
}
