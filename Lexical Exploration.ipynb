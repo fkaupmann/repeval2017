{
 "cells": [
  {
   "cell_type": "markdown",
   "metadata": {},
   "source": [
    "## Exploration of explicitly encoding Lexical Patterns into Neural Models"
   ]
  },
  {
   "cell_type": "code",
   "execution_count": 1,
   "metadata": {
    "collapsed": false
   },
   "outputs": [],
   "source": [
    "%load_ext autoreload\n",
    "%autoreload 2"
   ]
  },
  {
   "cell_type": "code",
   "execution_count": 1,
   "metadata": {
    "collapsed": false
   },
   "outputs": [
    {
     "name": "stdout",
     "output_type": "stream",
     "text": [
      "Lexical Exploration.ipynb  composition_learning.py\r\n",
      "README.md                  file_util.py\r\n",
      "\u001b[34m__pycache__\u001b[m\u001b[m/               repeval_exploration.ipynb\r\n"
     ]
    }
   ],
   "source": [
    "%ls"
   ]
  },
  {
   "cell_type": "code",
   "execution_count": 2,
   "metadata": {
    "collapsed": false
   },
   "outputs": [
    {
     "name": "stdout",
     "output_type": "stream",
     "text": [
      "GoogleNews-vectors-negative300.bin  notes.txt\r\n",
      "amod.train.filtered                 \u001b[34mrepeval2017\u001b[m\u001b[m/\r\n"
     ]
    }
   ],
   "source": [
    "%ls .."
   ]
  },
  {
   "cell_type": "code",
   "execution_count": 2,
   "metadata": {
    "collapsed": false
   },
   "outputs": [
    {
     "name": "stderr",
     "output_type": "stream",
     "text": [
      "Using Theano backend.\n"
     ]
    }
   ],
   "source": [
    "import numpy as np\n",
    "import h5py\n",
    "import composition_learning\n",
    "from gensim.models import KeyedVectors as embedding_model"
   ]
  },
  {
   "cell_type": "markdown",
   "metadata": {},
   "source": [
    "Zunächst erstmal Zielnomen, Nomen, Adjektive aus tsv-File laden"
   ]
  },
  {
   "cell_type": "code",
   "execution_count": 2,
   "metadata": {
    "collapsed": false
   },
   "outputs": [],
   "source": [
    "import csv\n",
    "path_to_adj_noun_file = \"../data/amod.train.filtered\"\n",
    "gnoun_noun_adj_list = [] #a list of lists, each sublist containing a goal-noun, noun, adjective triple\n",
    "goal_noun_list = [] #only the goal nouns, needed for functions from composition_learning.py.\n",
    "with open(path_to_adj_noun_file, \"r\") as tsv_file:\n",
    "    tsv_reader = csv.reader(tsv_file, delimiter='\\t')\n",
    "    for row in tsv_reader:\n",
    "        gnoun_noun_adj_list.append(row)\n",
    "        goal_noun_list.append(row[0].upper())"
   ]
  },
  {
   "cell_type": "markdown",
   "metadata": {},
   "source": [
    "Danach Word Embeddings aus Modell laden:"
   ]
  },
  {
   "cell_type": "code",
   "execution_count": 3,
   "metadata": {
    "collapsed": false
   },
   "outputs": [],
   "source": [
    "path_to_word_embeddings = \"../data/GoogleNews-vectors-negative300.bin\"\n",
    "vector_space = embedding_model.load_word2vec_format(path_to_word_embeddings, binary=True)"
   ]
  },
  {
   "cell_type": "markdown",
   "metadata": {},
   "source": [
    "Daten in das richtige Format für das Keras-Modell bringen:"
   ]
  },
  {
   "cell_type": "code",
   "execution_count": 7,
   "metadata": {
    "collapsed": false
   },
   "outputs": [],
   "source": [
    "training_data, training_labels, not_in_list = composition_learning.construct_data_and_labels(gnoun_noun_adj_list,\n",
    "                                                                                             vector_space,\n",
    "                                                                                             goal_noun_list,\n",
    "                                                                                             verbosity = 0)"
   ]
  },
  {
   "cell_type": "code",
   "execution_count": 12,
   "metadata": {
    "collapsed": false
   },
   "outputs": [],
   "source": [
    "f.close()\n",
    "f = h5py.File('../data/lexical_training_data.hdf5', 'w')\n",
    "t_data = f.create_dataset('training_data', data=training_data)\n",
    "t_labels = f.create_dataset('training_labels', data=training_labels)"
   ]
  },
  {
   "cell_type": "code",
   "execution_count": 24,
   "metadata": {
    "collapsed": false
   },
   "outputs": [
    {
     "data": {
      "text/plain": [
       "(16198, 300)"
      ]
     },
     "execution_count": 24,
     "metadata": {},
     "output_type": "execute_result"
    }
   ],
   "source": [
    "f = h5py.File('../data/lexical_training_data.hdf5', 'r')\n",
    "t_data = f[\"training_data\"]\n",
    "t_labels = f[\"training_labels\"]\n",
    "np.shape(t_data)\n",
    "np.shape(t_labels)"
   ]
  },
  {
   "cell_type": "code",
   "execution_count": 25,
   "metadata": {
    "collapsed": true
   },
   "outputs": [],
   "source": [
    "def training_data_generator(training_data, training_labels, batch_size):\n",
    "    num_batches = int(np.floor(np.shape(training_data)[0] / batch_size))\n",
    "    i=0\n",
    "    while i < num_batches*batch_size:\n",
    "        gen_output = (training_data[i:i+batch_size], training_labels[i:i+batch_size])\n",
    "        #gen_output = ([training_data[i:i+batch_size,0,:],training_data[i:i+batch_size,1,:]], training_labels[i:i+batch_size])\n",
    "        #print(i, np.shape(gen_output))\n",
    "        i += batch_size\n",
    "        if i >= (num_batches*batch_size): i = 0\n",
    "        #print(i)\n",
    "        yield gen_output\n",
    "#TODO: nimmt insgesamt zu wenige samples pro epoche\n"
   ]
  },
  {
   "cell_type": "code",
   "execution_count": 27,
   "metadata": {
    "collapsed": false
   },
   "outputs": [
    {
     "name": "stdout",
     "output_type": "stream",
     "text": [
      "(64, 300)\n"
     ]
    }
   ],
   "source": [
    "gen = training_data_generator(t_data, t_labels, batch_size=64)\n",
    "print(np.shape(next(gen)[1]))"
   ]
  },
  {
   "cell_type": "markdown",
   "metadata": {},
   "source": [
    "Das Modell trainieren. tensor_model bezeichnet das modell, indem adjektiv mit Tensor zusammen zu einer Matrix multipliziert wird, die dann mit Nomen-vektor multipliziert wird um wieder einen Vektor zu erhalten.\n",
    "weighted_model steht für ein additives Modell mit Gewichtigunsmatrizen für je Adjetiv und Nomen."
   ]
  },
  {
   "cell_type": "code",
   "execution_count": 9,
   "metadata": {
    "collapsed": false
   },
   "outputs": [
    {
     "name": "stdout",
     "output_type": "stream",
     "text": [
      "(22247, 3)\n",
      "5701\n",
      "(16198, 2, 300) (16198, 300)\n"
     ]
    }
   ],
   "source": [
    "print(np.shape(gnoun_noun_adj_list))\n",
    "print(len(not_in_list))\n",
    "print(np.shape(training_data), np.shape(training_labels))"
   ]
  },
  {
   "cell_type": "code",
   "execution_count": 28,
   "metadata": {
    "collapsed": false
   },
   "outputs": [
    {
     "name": "stderr",
     "output_type": "stream",
     "text": [
      "/home/fabian/anaconda3/lib/python3.6/site-packages/keras/engine/training.py:1573: UserWarning: Epoch comprised more than `samples_per_epoch` samples, which might affect learning results. Set `samples_per_epoch` correctly to avoid this warning.\n",
      "  warnings.warn('Epoch comprised more than '\n"
     ]
    }
   ],
   "source": [
    "tensor_model = composition_learning.train_model(training_data_generator(training_data, training_labels, batch_size=256), \n",
    "                                                samples_per_epoch = np.shape(training_data)[0],\n",
    "                                                composition_mode = 'tensor_mult_identity', verbosity=0)"
   ]
  },
  {
   "cell_type": "code",
   "execution_count": 29,
   "metadata": {
    "collapsed": false
   },
   "outputs": [
    {
     "name": "stderr",
     "output_type": "stream",
     "text": [
      "/home/fabian/anaconda3/lib/python3.6/site-packages/keras/engine/training.py:1573: UserWarning: Epoch comprised more than `samples_per_epoch` samples, which might affect learning results. Set `samples_per_epoch` correctly to avoid this warning.\n",
      "  warnings.warn('Epoch comprised more than '\n"
     ]
    }
   ],
   "source": [
    "weighted_model = composition_learning.train_model(training_data_generator(training_data, training_labels, batch_size=256), \n",
    "                                                samples_per_epoch = np.shape(training_data)[0],\n",
    "                                                composition_mode = 'weighted_adj_and_noun_add_identity', verbosity=0)\n"
   ]
  },
  {
   "cell_type": "code",
   "execution_count": 45,
   "metadata": {
    "collapsed": true
   },
   "outputs": [],
   "source": [
    "??composition_learning.train_model"
   ]
  },
  {
   "cell_type": "code",
   "execution_count": 30,
   "metadata": {
    "collapsed": false
   },
   "outputs": [],
   "source": [
    "weighted_model.name = \"weighted_model\"\n",
    "tensor_model.name = \"tensor_model\""
   ]
  },
  {
   "cell_type": "markdown",
   "metadata": {},
   "source": [
    "Modelle abspeichern für später(funktioniert irgendwie noch nicht, wahrscheinlich wegen eigener layerdefinition):"
   ]
  },
  {
   "cell_type": "code",
   "execution_count": 24,
   "metadata": {
    "collapsed": false
   },
   "outputs": [],
   "source": [
    "%mkdir ../models/"
   ]
  },
  {
   "cell_type": "code",
   "execution_count": 31,
   "metadata": {
    "collapsed": false
   },
   "outputs": [],
   "source": [
    "weighted_model.save_weights(\"../models/weighted_model_weights\")\n",
    "tensor_model.save_weights(\"../models/tensor_model_weights\")"
   ]
  },
  {
   "cell_type": "code",
   "execution_count": 30,
   "metadata": {
    "collapsed": false
   },
   "outputs": [
    {
     "name": "stdout",
     "output_type": "stream",
     "text": [
      "/Users/Fabian/Documents/Arbeit/AG_SD/repeval2017/repeval2017\n"
     ]
    }
   ],
   "source": [
    "%cd ../repeval2017/"
   ]
  },
  {
   "cell_type": "markdown",
   "metadata": {},
   "source": [
    "Modelle wieder laden:"
   ]
  },
  {
   "cell_type": "code",
   "execution_count": 14,
   "metadata": {
    "collapsed": false
   },
   "outputs": [
    {
     "name": "stdout",
     "output_type": "stream",
     "text": [
      "Erstelle NN mit mode tensor_mult_identity...\n"
     ]
    },
    {
     "ename": "RuntimeError",
     "evalue": "The model cannot be compiled because it has no loss to optimize.",
     "output_type": "error",
     "traceback": [
      "\u001b[0;31m---------------------------------------------------------------------------\u001b[0m",
      "\u001b[0;31mRuntimeError\u001b[0m                              Traceback (most recent call last)",
      "\u001b[0;32m<ipython-input-14-3096cd02e75b>\u001b[0m in \u001b[0;36m<module>\u001b[0;34m()\u001b[0m\n\u001b[1;32m      1\u001b[0m \u001b[0mtensor_model\u001b[0m \u001b[0;34m=\u001b[0m \u001b[0mcomposition_learning\u001b[0m\u001b[0;34m.\u001b[0m\u001b[0mcreate_model\u001b[0m\u001b[0;34m(\u001b[0m\u001b[0mcomposition_mode\u001b[0m \u001b[0;34m=\u001b[0m \u001b[0;34m'tensor_mult_identity'\u001b[0m\u001b[0;34m)\u001b[0m\u001b[0;34m\u001b[0m\u001b[0m\n\u001b[0;32m----> 2\u001b[0;31m \u001b[0mtensor_model\u001b[0m\u001b[0;34m.\u001b[0m\u001b[0mcompile\u001b[0m\u001b[0;34m(\u001b[0m\u001b[0moptimizer\u001b[0m\u001b[0;34m=\u001b[0m\u001b[0;34m'adam'\u001b[0m\u001b[0;34m,\u001b[0m \u001b[0mloss\u001b[0m\u001b[0;34m=\u001b[0m\u001b[0;34m'cosine_proximity'\u001b[0m\u001b[0;34m,\u001b[0m \u001b[0mmetrics\u001b[0m\u001b[0;34m=\u001b[0m\u001b[0;34m[\u001b[0m\u001b[0;34m'accuracy'\u001b[0m\u001b[0;34m]\u001b[0m\u001b[0;34m)\u001b[0m\u001b[0;34m\u001b[0m\u001b[0m\n\u001b[0m\u001b[1;32m      3\u001b[0m \u001b[0mtensor_model\u001b[0m\u001b[0;34m.\u001b[0m\u001b[0msummary\u001b[0m\u001b[0;34m(\u001b[0m\u001b[0;34m)\u001b[0m\u001b[0;34m\u001b[0m\u001b[0m\n\u001b[1;32m      4\u001b[0m \u001b[0mtensor_model\u001b[0m\u001b[0;34m.\u001b[0m\u001b[0mload_weights\u001b[0m\u001b[0;34m(\u001b[0m\u001b[0;34m\"../models/tensor_model_weights\"\u001b[0m\u001b[0;34m)\u001b[0m\u001b[0;34m\u001b[0m\u001b[0m\n\u001b[1;32m      5\u001b[0m \u001b[0mweighted_model\u001b[0m \u001b[0;34m=\u001b[0m \u001b[0mcomposition_learning\u001b[0m\u001b[0;34m.\u001b[0m\u001b[0mcreate_model\u001b[0m\u001b[0;34m(\u001b[0m\u001b[0mcomposition_mode\u001b[0m \u001b[0;34m=\u001b[0m \u001b[0;34m'weighted_adj_and_noun_add_identity'\u001b[0m\u001b[0;34m)\u001b[0m\u001b[0;34m\u001b[0m\u001b[0m\n",
      "\u001b[0;32m/Users/Fabian/anaconda/lib/python3.5/site-packages/keras/engine/training.py\u001b[0m in \u001b[0;36mcompile\u001b[0;34m(self, optimizer, loss, metrics, loss_weights, sample_weight_mode, **kwargs)\u001b[0m\n\u001b[1;32m    907\u001b[0m         \u001b[0;32mif\u001b[0m \u001b[0mtotal_loss\u001b[0m \u001b[0;32mis\u001b[0m \u001b[0;32mNone\u001b[0m\u001b[0;34m:\u001b[0m\u001b[0;34m\u001b[0m\u001b[0m\n\u001b[1;32m    908\u001b[0m             \u001b[0;32mif\u001b[0m \u001b[0;32mnot\u001b[0m \u001b[0mself\u001b[0m\u001b[0;34m.\u001b[0m\u001b[0mlosses\u001b[0m\u001b[0;34m:\u001b[0m\u001b[0;34m\u001b[0m\u001b[0m\n\u001b[0;32m--> 909\u001b[0;31m                 raise RuntimeError('The model cannot be compiled '\n\u001b[0m\u001b[1;32m    910\u001b[0m                                    'because it has no loss to optimize.')\n\u001b[1;32m    911\u001b[0m             \u001b[0;32melse\u001b[0m\u001b[0;34m:\u001b[0m\u001b[0;34m\u001b[0m\u001b[0m\n",
      "\u001b[0;31mRuntimeError\u001b[0m: The model cannot be compiled because it has no loss to optimize."
     ]
    }
   ],
   "source": [
    "tensor_model = composition_learning.create_model(composition_mode = 'tensor_mult_identity')\n",
    "tensor_model.compile(optimizer='adam', loss='cosine_proximity', metrics=['accuracy'])\n",
    "tensor_model.summary()\n",
    "tensor_model.load_weights(\"../models/tensor_model_weights\")\n",
    "weighted_model = composition_learning.create_model(composition_mode = 'weighted_adj_and_noun_add_identity')\n",
    "weighted_model.load_weights(\"../models/weighted_model_weights\")\n",
    "weighted_model.name = \"weighted_model\"\n",
    "tensor_model.name = \"tensor_model\""
   ]
  },
  {
   "cell_type": "markdown",
   "metadata": {},
   "source": [
    "Um mit den Modellen Vektoren zu berechnen, tut man folgendes:"
   ]
  },
  {
   "cell_type": "code",
   "execution_count": null,
   "metadata": {
    "collapsed": true
   },
   "outputs": [],
   "source": [
    "goal_noun, noun, adj = gnoun_noun_adj_list[0]\n",
    "\n",
    "\n",
    "goal_noun_tensor_vector = tensor_model.predict(np.asarray([[vectorspace[adj], vectorspace[noun]]]))[0, 0]\n",
    "goal_noun_weighted_add_vector = weighted_model.predict(np.asarray([[vectorspace[adj], vectorspace[noun]]]))[0]"
   ]
  },
  {
   "cell_type": "markdown",
   "metadata": {
    "collapsed": true
   },
   "source": [
    "### Evaluierung"
   ]
  },
  {
   "cell_type": "markdown",
   "metadata": {},
   "source": [
    "Lade Datensatz von hier: http://jair.org/media/3640/live-3640-6413-jair.txt"
   ]
  },
  {
   "cell_type": "code",
   "execution_count": 3,
   "metadata": {
    "collapsed": false
   },
   "outputs": [
    {
     "name": "stdout",
     "output_type": "stream",
     "text": [
      "/Users/Fabian/Documents/Arbeit/AG_SD/repeval2017/data\n",
      "--2017-04-06 10:53:48--  http://jair.org/media/3640/live-3640-6413-jair.txt\n",
      "Resolving jair.org... 141.213.4.6\n",
      "Connecting to jair.org|141.213.4.6|:80... connected.\n",
      "HTTP request sent, awaiting response... 200 OK\n",
      "Length: 191220 (187K) [text/plain]\n",
      "Saving to: 'live-3640-6413-jair.txt'\n",
      "\n",
      "live-3640-6413-jair 100%[=====================>] 186.74K   258KB/s   in 0.7s   \n",
      "\n",
      "2017-04-06 10:53:49 (258 KB/s) - 'live-3640-6413-jair.txt' saved [191220/191220]\n",
      "\n",
      "GoogleNews-vectors-negative300.bin  \u001b[34msnli_1.0\u001b[m\u001b[m/\n",
      "live-3640-6413-jair.txt             snli_1.0.zip\n",
      "/Users/Fabian/Documents/Arbeit/AG_SD/repeval2017/repeval2017\n"
     ]
    }
   ],
   "source": [
    "%cd ../data/\n",
    "!wget \"http://jair.org/media/3640/live-3640-6413-jair.txt\"\n",
    "%ls\n",
    "%cd ../repeval2017/"
   ]
  },
  {
   "cell_type": "markdown",
   "metadata": {},
   "source": [
    "Evaluierungsdatensatz einlesen:"
   ]
  },
  {
   "cell_type": "code",
   "execution_count": 32,
   "metadata": {
    "collapsed": false
   },
   "outputs": [
    {
     "name": "stdout",
     "output_type": "stream",
     "text": [
      "680\n",
      "1500\n"
     ]
    }
   ],
   "source": [
    "import csv\n",
    "path_to_eval_file = \"../data/live-3640-6413-jair.txt\"\n",
    "data = []\n",
    "with open(path_to_eval_file, \"r\") as tsv_file:\n",
    "    tsv_reader = csv.reader(tsv_file, delimiter='|')\n",
    "    i = 0    \n",
    "    for row in tsv_reader:\n",
    "        if row[0][0] != '#':\n",
    "            data.append([])\n",
    "            for elem in row:\n",
    "                data[i].append(elem.strip())\n",
    "            i+=1\n",
    "\n",
    "training_data = data[0:680] #Split nach Angabe von Turney\n",
    "test_data = data[680:]\n",
    "print(len(training_data))\n",
    "print(len(test_data))"
   ]
  },
  {
   "cell_type": "code",
   "execution_count": 34,
   "metadata": {
    "collapsed": false,
    "scrolled": true
   },
   "outputs": [
    {
     "name": "stdout",
     "output_type": "stream",
     "text": [
      "--------------------------\n",
      "Could not compute rank in 18 of 1500 cases due to empty distance lists.\n",
      "(Probably due to words not appearing in the embedding space.)\n",
      "WEIGHTED_MODEL: Average rank of the gold label: 2.8684210526315788\n",
      "--------------------------\n",
      "Could not compute rank in 18 of 1500 cases due to empty distance lists.\n",
      "(Probably due to words not appearing in the embedding space.)\n",
      "WEIGHTED_MODEL: Accuracy of the model: 2.8684210526315788\n",
      "--------------------------\n",
      "Could not compute rank in 18 of 1500 cases due to empty distance lists.\n",
      "(Probably due to words not appearing in the embedding space.)\n",
      "TENSOR_MODEL: Average rank of the gold label: 2.9581646423751686\n",
      "--------------------------\n",
      "Could not compute rank in 18 of 1500 cases due to empty distance lists.\n",
      "(Probably due to words not appearing in the embedding space.)\n",
      "TENSOR_MODEL: Accuracy of the model: 2.9581646423751686\n"
     ]
    }
   ],
   "source": [
    "from scipy.spatial.distance import cosine\n",
    "import sys\n",
    "\n",
    "def compute_distances_to_candidates(model, vector_space, sample, complete_vector_space=False):\n",
    "    #print(\"Processing {}\".format(sample))\n",
    "    distances = []\n",
    "    not_in_vector_space = []\n",
    "    \n",
    "    phrase = sample[0]\n",
    "    adj,noun = phrase.split()\n",
    "    # berechne phrasenvektor mit modell\n",
    "    try:     \n",
    "        if model.name == 'weighted_model': phrase_vec = model.predict(np.asarray([[vector_space[adj], vector_space[noun]]]))[0]\n",
    "        elif model.name == 'tensor_model': phrase_vec = model.predict(np.asarray([[vector_space[adj], vector_space[noun]]]))[0,0]\n",
    "    except:\n",
    "        not_in_vector_space.append([adj,noun])\n",
    "        return distances\n",
    "    \n",
    "    if complete_vector_space:\n",
    "        try:\n",
    "            distances = embedding_model.similar_by_vector(phrase_vec, topn=300)\n",
    "    elif not complete_vector_space:\n",
    "        for i in range(1,len(sample)):\n",
    "            # berechne vektoren für alle targets per look up\n",
    "            try:\n",
    "                target_vec = vector_space[sample[i]]\n",
    "                distance = cosine(phrase_vec, target_vec)\n",
    "                distances.append((sample[i], distance))\n",
    "            except KeyError as e:\n",
    "                distances.append((sample[i], np.infty))#wörter, die nicht im vektorraum enthalten sind, werden als unendlich weit weg behandelt\n",
    "                not_in_vector_space.append(sample[i])\n",
    "                #print(\"{} is not in vectorspace\".format(sample[i]))\n",
    "            \n",
    "    #sortiere nach distanz\n",
    "    sorted_distances = sorted(distances, key=lambda x:x[1], reverse=False)\n",
    "    #print(sorted_distances)\n",
    "    return sorted_distances\n",
    "    \n",
    "def eval_model(model, vector_space, test_data, mode='average_rank', k=1):\n",
    "    if mode == 'average_rank':\n",
    "        ranks = []\n",
    "        empty_list_counter = 0\n",
    "        for sample in test_data:\n",
    "            distances = compute_distances_to_candidates(model, vector_space, sample)\n",
    "            if distances:\n",
    "                for i in range(0, len(distances)):\n",
    "                    if distances[i][0] == sample[1]: #find rank of gold label\n",
    "                        #print(distances)\n",
    "                        ranks.append(i)\n",
    "            else:\n",
    "                empty_list_counter += 1\n",
    "        print(\"Could not compute rank in {} of {} cases due to empty distance lists.\\n(Probably due to words not appearing in the embedding space.)\".format(empty_list_counter, len(test_data)))\n",
    "        return np.mean(ranks)\n",
    "    elif mode == 'average_rank_complete_vectorspace':\n",
    "        ranks = []\n",
    "        for sample in test_data:\n",
    "            distances = compute_distances_to_candidates(model, vector_space, sample, complete_vector_space=True)\n",
    "            if distances:\n",
    "                for i in range(0, len(distances)):\n",
    "                    if distances[i][0] == sample[1]: #find rank of gold label\n",
    "                        #print(distances)\n",
    "                        ranks.append(i)\n",
    "                    else:\n",
    "                        ranks.append(301)\n",
    "            else:\n",
    "                empty_list_counter += 1\n",
    "        print(\"Could not compute rank in {} of {} cases due to empty distance lists.\\n(Probably due to words not appearing in the embedding space.)\".format(empty_list_counter, len(test_data)))\n",
    "        return np.mean(ranks)\n",
    "    elif mode == 'accuracy':\n",
    "        correct_counter = 0.0\n",
    "        empty_list_counter = 0\n",
    "        for sample in test_data:\n",
    "            distances = compute_distances_to_candidates(model, vector_space, sample)\n",
    "            if distances: \n",
    "                if distances[0][0] == sample[1]: #gold label is rank 1\n",
    "                    correct_counter += 1\n",
    "                else:\n",
    "                    correct_counter += 6/7\n",
    "            else:\n",
    "                empty_list_counter += 1\n",
    "                \n",
    "        print(\"Could not compute rank in {} of {} cases due to empty distance lists.(Probably due to words not appearing in the embedding space.)\".format(empty_list_counter, len(test_data)))\n",
    "        return (correct_counter / (len(test_data) - empty_list_counter))\n",
    "    elif mode == 'precision':\n",
    "        correct_counter = 0\n",
    "        empty_list_counter = 0\n",
    "        for sample in test_data:\n",
    "            distances = compute_distances_to_candidates(model, vector_space, sample)\n",
    "            if distances:\n",
    "                k_nearest = [target for target, distance in distances]\n",
    "                if sample[1] in k_nearest[:k]:\n",
    "                    correct_counter += 1\n",
    "            else:\n",
    "                empty_list_counter += 1\n",
    "        return (correct_counter / (len(test_data) - empty_list_counter))\n",
    "                \n",
    "print(\"--------------------------\") \n",
    "print(\"{}: Average rank of the gold label: {}\".format(weighted_model.name.upper(), eval_model(weighted_model, vector_space, test_data, mode='average_rank')))\n",
    "print(\"--------------------------\")\n",
    "print(\"{}: Accuracy of the model: {}\".format(weighted_model.name.upper(), eval_model(weighted_model, vector_space, test_data, mode='accuracy')))\n",
    "print(\"--------------------------\")\n",
    "print(\"{}: Precision_at_1 of the model: {}\".format(weighted_model.name.upper(), eval_model(weighted_model, vector_space, test_data, mode='precision')))\n",
    "print(\"--------------------------\") \n",
    "print(\"{}: Average rank of the gold label: {}\".format(tensor_model.name.upper(), eval_model(tensor_model, vector_space, test_data, mode='average_rank')))\n",
    "print(\"--------------------------\")\n",
    "print(\"{}: Accuracy of the model: {}\".format(tensor_model.name.upper(), eval_model(tensor_model, vector_space, test_data, mode='accuracy')))\n",
    "print(\"--------------------------\")\n",
    "print(\"{}: Precision_at_1 of the model: {}\".format(tensor_model.name.upper(), eval_model(weighted_model, vector_space, test_data, mode='precision')))"
   ]
  },
  {
   "cell_type": "code",
   "execution_count": null,
   "metadata": {
    "collapsed": true
   },
   "outputs": [],
   "source": []
  }
 ],
 "metadata": {
  "kernelspec": {
   "display_name": "Python 3",
   "language": "python",
   "name": "python3"
  },
  "language_info": {
   "codemirror_mode": {
    "name": "ipython",
    "version": 3
   },
   "file_extension": ".py",
   "mimetype": "text/x-python",
   "name": "python",
   "nbconvert_exporter": "python",
   "pygments_lexer": "ipython3",
   "version": "3.5.2"
  }
 },
 "nbformat": 4,
 "nbformat_minor": 0
}
