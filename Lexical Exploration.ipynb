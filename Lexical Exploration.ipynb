{
 "cells": [
  {
   "cell_type": "markdown",
   "metadata": {},
   "source": [
    "## Exploration of explicitly encoding Lexical Patterns into Neural Models"
   ]
  },
  {
   "cell_type": "code",
   "execution_count": 36,
   "metadata": {
    "collapsed": false
   },
   "outputs": [
    {
     "name": "stdout",
     "output_type": "stream",
     "text": [
      "The autoreload extension is already loaded. To reload it, use:\n",
      "  %reload_ext autoreload\n"
     ]
    }
   ],
   "source": [
    "%load_ext autoreload\n",
    "%autoreload 2"
   ]
  },
  {
   "cell_type": "code",
   "execution_count": 1,
   "metadata": {
    "collapsed": false
   },
   "outputs": [
    {
     "name": "stdout",
     "output_type": "stream",
     "text": [
      "Lexical Exploration.ipynb  composition_learning.py\r\n",
      "README.md                  file_util.py\r\n",
      "\u001b[34m__pycache__\u001b[m\u001b[m/               repeval_exploration.ipynb\r\n"
     ]
    }
   ],
   "source": [
    "%ls"
   ]
  },
  {
   "cell_type": "code",
   "execution_count": 2,
   "metadata": {
    "collapsed": false
   },
   "outputs": [
    {
     "name": "stdout",
     "output_type": "stream",
     "text": [
      "GoogleNews-vectors-negative300.bin  notes.txt\r\n",
      "amod.train.filtered                 \u001b[34mrepeval2017\u001b[m\u001b[m/\r\n"
     ]
    }
   ],
   "source": [
    "%ls .."
   ]
  },
  {
   "cell_type": "code",
   "execution_count": 28,
   "metadata": {
    "collapsed": false
   },
   "outputs": [],
   "source": [
    "import numpy as np\n",
    "import composition_learning\n",
    "from gensim.models import KeyedVectors as embedding_model"
   ]
  },
  {
   "cell_type": "markdown",
   "metadata": {},
   "source": [
    "Zunächst erstmal Zielnomen, Nomen, Adjektive aus tsv-File laden"
   ]
  },
  {
   "cell_type": "code",
   "execution_count": 51,
   "metadata": {
    "collapsed": false
   },
   "outputs": [],
   "source": [
    "import csv\n",
    "path_to_adj_noun_file = \"../data/amod.train.filtered\"\n",
    "gnoun_noun_adj_list = [] #a list of lists, each sublist containing a goal-noun, noun, adjective triple\n",
    "goal_noun_list = [] #only the goal nouns, needed for functions from composition_learning.py.\n",
    "with open(path_to_adj_noun_file, \"r\") as tsv_file:\n",
    "    tsv_reader = csv.reader(tsv_file, delimiter='\\t')\n",
    "    for row in tsv_reader:\n",
    "        gnoun_noun_adj_list.append(row)\n",
    "        goal_noun_list.append(row[0].upper())"
   ]
  },
  {
   "cell_type": "markdown",
   "metadata": {},
   "source": [
    "Danach Word Embeddings aus Modell laden:"
   ]
  },
  {
   "cell_type": "code",
   "execution_count": 3,
   "metadata": {
    "collapsed": false
   },
   "outputs": [],
   "source": [
    "path_to_word_embeddings = \"../data/GoogleNews-vectors-negative300.bin\"\n",
    "vector_space = embedding_model.load_word2vec_format(path_to_word_embeddings, binary=True)"
   ]
  },
  {
   "cell_type": "markdown",
   "metadata": {},
   "source": [
    "Daten in das richtige Format für das Keras-Modell bringen:"
   ]
  },
  {
   "cell_type": "code",
   "execution_count": 52,
   "metadata": {
    "collapsed": false
   },
   "outputs": [],
   "source": [
    "training_data, training_labels, not_in_list = composition_learning.construct_data_and_labels(gnoun_noun_adj_list,\n",
    "                                                                                             vector_space,\n",
    "                                                                                             goal_noun_list,\n",
    "                                                                                             verbosity = 0\n",
    "                                                                                            )"
   ]
  },
  {
   "cell_type": "markdown",
   "metadata": {},
   "source": [
    "Das Modell trainieren. tensor_model bezeichnet das modell, indem adjektiv mit Tensor zusammen zu einer Matrix multipliziert wird, die dann mit Nomen-vektor multipliziert wird um wieder einen Vektor zu erhalten.\n",
    "weighted_model steht für ein additives Modell mit Gewichtigunsmatrizen für je Adjetiv und Nomen."
   ]
  },
  {
   "cell_type": "code",
   "execution_count": 55,
   "metadata": {
    "collapsed": false
   },
   "outputs": [
    {
     "name": "stdout",
     "output_type": "stream",
     "text": [
      "(22247, 3)\n",
      "5701\n",
      "(16198, 2, 300) (16198, 300)\n"
     ]
    }
   ],
   "source": [
    "print(np.shape(gnoun_noun_adj_list))\n",
    "print(len(not_in_list))\n",
    "print(np.shape(training_data), np.shape(training_labels))"
   ]
  },
  {
   "cell_type": "code",
   "execution_count": 56,
   "metadata": {
    "collapsed": false
   },
   "outputs": [
    {
     "name": "stdout",
     "output_type": "stream",
     "text": [
      "Trainiere NN mit mode tensor_mult_identity...\n"
     ]
    }
   ],
   "source": [
    "tensor_model = composition_learning.train_model(training_data, training_labels, \n",
    "                                         composition_mode = 'tensor_mult_identity', verbosity=1)"
   ]
  },
  {
   "cell_type": "code",
   "execution_count": 57,
   "metadata": {
    "collapsed": false
   },
   "outputs": [
    {
     "name": "stdout",
     "output_type": "stream",
     "text": [
      "Trainiere NN mit mode weighted_adj_and_noun_add_identity...\n"
     ]
    }
   ],
   "source": [
    "weighted_model = composition_learning.train_model(training_data, training_labels,\n",
    "                                                composition_mode = 'weighted_adj_and_noun_add_identity', verbosity=1)\n"
   ]
  },
  {
   "cell_type": "code",
   "execution_count": 45,
   "metadata": {
    "collapsed": true
   },
   "outputs": [],
   "source": [
    "??composition_learning.train_model"
   ]
  },
  {
   "cell_type": "code",
   "execution_count": 58,
   "metadata": {
    "collapsed": false
   },
   "outputs": [],
   "source": [
    "weighted_model.name = \"weighted_model\"\n",
    "tensor_model.name = \"tensor_model\""
   ]
  },
  {
   "cell_type": "markdown",
   "metadata": {},
   "source": [
    "Modelle abspeichern für später(funktioniert irgendwie noch nicht, wahrscheinlich wegen eigener layerdefinition):"
   ]
  },
  {
   "cell_type": "code",
   "execution_count": 25,
   "metadata": {
    "collapsed": false
   },
   "outputs": [
    {
     "name": "stdout",
     "output_type": "stream",
     "text": [
      "/Users/Fabian/Documents/Arbeit/AG_SD/repeval2017\n",
      "/Users/Fabian/Documents/Arbeit/AG_SD/repeval2017/models\n"
     ]
    }
   ],
   "source": [
    "%cd .. \n",
    "%mkdir models \n",
    "%cd models"
   ]
  },
  {
   "cell_type": "code",
   "execution_count": 59,
   "metadata": {
    "collapsed": false
   },
   "outputs": [
    {
     "ename": "OSError",
     "evalue": "Unable to create file (Unable to open file: name = '../models/weighted_model_weights', errno = 2, error message = 'no such file or directory', flags = 13, o_flags = 242)",
     "output_type": "error",
     "traceback": [
      "\u001b[0;31m---------------------------------------------------------------------------\u001b[0m",
      "\u001b[0;31mOSError\u001b[0m                                   Traceback (most recent call last)",
      "\u001b[0;32m<ipython-input-59-f05b99d4b62b>\u001b[0m in \u001b[0;36m<module>\u001b[0;34m()\u001b[0m\n\u001b[0;32m----> 1\u001b[0;31m \u001b[0mweighted_model\u001b[0m\u001b[0;34m.\u001b[0m\u001b[0msave_weights\u001b[0m\u001b[0;34m(\u001b[0m\u001b[0;34m\"../models/weighted_model_weights\"\u001b[0m\u001b[0;34m)\u001b[0m\u001b[0;34m\u001b[0m\u001b[0m\n\u001b[0m\u001b[1;32m      2\u001b[0m \u001b[0mtensor_model\u001b[0m\u001b[0;34m.\u001b[0m\u001b[0msave_weights\u001b[0m\u001b[0;34m(\u001b[0m\u001b[0;34m\"../models/tensor_model_weights\"\u001b[0m\u001b[0;34m)\u001b[0m\u001b[0;34m\u001b[0m\u001b[0m\n",
      "\u001b[0;32m/home/fabian/anaconda3/lib/python3.6/site-packages/keras/engine/topology.py\u001b[0m in \u001b[0;36msave_weights\u001b[0;34m(self, filepath, overwrite)\u001b[0m\n\u001b[1;32m   2649\u001b[0m             \u001b[0;32mif\u001b[0m \u001b[0;32mnot\u001b[0m \u001b[0mproceed\u001b[0m\u001b[0;34m:\u001b[0m\u001b[0;34m\u001b[0m\u001b[0m\n\u001b[1;32m   2650\u001b[0m                 \u001b[0;32mreturn\u001b[0m\u001b[0;34m\u001b[0m\u001b[0m\n\u001b[0;32m-> 2651\u001b[0;31m         \u001b[0mf\u001b[0m \u001b[0;34m=\u001b[0m \u001b[0mh5py\u001b[0m\u001b[0;34m.\u001b[0m\u001b[0mFile\u001b[0m\u001b[0;34m(\u001b[0m\u001b[0mfilepath\u001b[0m\u001b[0;34m,\u001b[0m \u001b[0;34m'w'\u001b[0m\u001b[0;34m)\u001b[0m\u001b[0;34m\u001b[0m\u001b[0m\n\u001b[0m\u001b[1;32m   2652\u001b[0m         \u001b[0mself\u001b[0m\u001b[0;34m.\u001b[0m\u001b[0msave_weights_to_hdf5_group\u001b[0m\u001b[0;34m(\u001b[0m\u001b[0mf\u001b[0m\u001b[0;34m)\u001b[0m\u001b[0;34m\u001b[0m\u001b[0m\n\u001b[1;32m   2653\u001b[0m         \u001b[0mf\u001b[0m\u001b[0;34m.\u001b[0m\u001b[0mflush\u001b[0m\u001b[0;34m(\u001b[0m\u001b[0;34m)\u001b[0m\u001b[0;34m\u001b[0m\u001b[0m\n",
      "\u001b[0;32m/home/fabian/anaconda3/lib/python3.6/site-packages/h5py/_hl/files.py\u001b[0m in \u001b[0;36m__init__\u001b[0;34m(self, name, mode, driver, libver, userblock_size, swmr, **kwds)\u001b[0m\n\u001b[1;32m    270\u001b[0m \u001b[0;34m\u001b[0m\u001b[0m\n\u001b[1;32m    271\u001b[0m                 \u001b[0mfapl\u001b[0m \u001b[0;34m=\u001b[0m \u001b[0mmake_fapl\u001b[0m\u001b[0;34m(\u001b[0m\u001b[0mdriver\u001b[0m\u001b[0;34m,\u001b[0m \u001b[0mlibver\u001b[0m\u001b[0;34m,\u001b[0m \u001b[0;34m**\u001b[0m\u001b[0mkwds\u001b[0m\u001b[0;34m)\u001b[0m\u001b[0;34m\u001b[0m\u001b[0m\n\u001b[0;32m--> 272\u001b[0;31m                 \u001b[0mfid\u001b[0m \u001b[0;34m=\u001b[0m \u001b[0mmake_fid\u001b[0m\u001b[0;34m(\u001b[0m\u001b[0mname\u001b[0m\u001b[0;34m,\u001b[0m \u001b[0mmode\u001b[0m\u001b[0;34m,\u001b[0m \u001b[0muserblock_size\u001b[0m\u001b[0;34m,\u001b[0m \u001b[0mfapl\u001b[0m\u001b[0;34m,\u001b[0m \u001b[0mswmr\u001b[0m\u001b[0;34m=\u001b[0m\u001b[0mswmr\u001b[0m\u001b[0;34m)\u001b[0m\u001b[0;34m\u001b[0m\u001b[0m\n\u001b[0m\u001b[1;32m    273\u001b[0m \u001b[0;34m\u001b[0m\u001b[0m\n\u001b[1;32m    274\u001b[0m                 \u001b[0;32mif\u001b[0m \u001b[0mswmr_support\u001b[0m\u001b[0;34m:\u001b[0m\u001b[0;34m\u001b[0m\u001b[0m\n",
      "\u001b[0;32m/home/fabian/anaconda3/lib/python3.6/site-packages/h5py/_hl/files.py\u001b[0m in \u001b[0;36mmake_fid\u001b[0;34m(name, mode, userblock_size, fapl, fcpl, swmr)\u001b[0m\n\u001b[1;32m     96\u001b[0m         \u001b[0mfid\u001b[0m \u001b[0;34m=\u001b[0m \u001b[0mh5f\u001b[0m\u001b[0;34m.\u001b[0m\u001b[0mcreate\u001b[0m\u001b[0;34m(\u001b[0m\u001b[0mname\u001b[0m\u001b[0;34m,\u001b[0m \u001b[0mh5f\u001b[0m\u001b[0;34m.\u001b[0m\u001b[0mACC_EXCL\u001b[0m\u001b[0;34m,\u001b[0m \u001b[0mfapl\u001b[0m\u001b[0;34m=\u001b[0m\u001b[0mfapl\u001b[0m\u001b[0;34m,\u001b[0m \u001b[0mfcpl\u001b[0m\u001b[0;34m=\u001b[0m\u001b[0mfcpl\u001b[0m\u001b[0;34m)\u001b[0m\u001b[0;34m\u001b[0m\u001b[0m\n\u001b[1;32m     97\u001b[0m     \u001b[0;32melif\u001b[0m \u001b[0mmode\u001b[0m \u001b[0;34m==\u001b[0m \u001b[0;34m'w'\u001b[0m\u001b[0;34m:\u001b[0m\u001b[0;34m\u001b[0m\u001b[0m\n\u001b[0;32m---> 98\u001b[0;31m         \u001b[0mfid\u001b[0m \u001b[0;34m=\u001b[0m \u001b[0mh5f\u001b[0m\u001b[0;34m.\u001b[0m\u001b[0mcreate\u001b[0m\u001b[0;34m(\u001b[0m\u001b[0mname\u001b[0m\u001b[0;34m,\u001b[0m \u001b[0mh5f\u001b[0m\u001b[0;34m.\u001b[0m\u001b[0mACC_TRUNC\u001b[0m\u001b[0;34m,\u001b[0m \u001b[0mfapl\u001b[0m\u001b[0;34m=\u001b[0m\u001b[0mfapl\u001b[0m\u001b[0;34m,\u001b[0m \u001b[0mfcpl\u001b[0m\u001b[0;34m=\u001b[0m\u001b[0mfcpl\u001b[0m\u001b[0;34m)\u001b[0m\u001b[0;34m\u001b[0m\u001b[0m\n\u001b[0m\u001b[1;32m     99\u001b[0m     \u001b[0;32melif\u001b[0m \u001b[0mmode\u001b[0m \u001b[0;34m==\u001b[0m \u001b[0;34m'a'\u001b[0m\u001b[0;34m:\u001b[0m\u001b[0;34m\u001b[0m\u001b[0m\n\u001b[1;32m    100\u001b[0m         \u001b[0;31m# Open in append mode (read/write).\u001b[0m\u001b[0;34m\u001b[0m\u001b[0;34m\u001b[0m\u001b[0m\n",
      "\u001b[0;32mh5py/_objects.pyx\u001b[0m in \u001b[0;36mh5py._objects.with_phil.wrapper (/home/ilan/minonda/conda-bld/h5py_1482475225177/work/h5py/_objects.c:2856)\u001b[0;34m()\u001b[0m\n",
      "\u001b[0;32mh5py/_objects.pyx\u001b[0m in \u001b[0;36mh5py._objects.with_phil.wrapper (/home/ilan/minonda/conda-bld/h5py_1482475225177/work/h5py/_objects.c:2814)\u001b[0;34m()\u001b[0m\n",
      "\u001b[0;32mh5py/h5f.pyx\u001b[0m in \u001b[0;36mh5py.h5f.create (/home/ilan/minonda/conda-bld/h5py_1482475225177/work/h5py/h5f.c:2269)\u001b[0;34m()\u001b[0m\n",
      "\u001b[0;31mOSError\u001b[0m: Unable to create file (Unable to open file: name = '../models/weighted_model_weights', errno = 2, error message = 'no such file or directory', flags = 13, o_flags = 242)"
     ]
    }
   ],
   "source": [
    "weighted_model.save_weights(\"../models/weighted_model_weights\")\n",
    "tensor_model.save_weights(\"../models/tensor_model_weights\")"
   ]
  },
  {
   "cell_type": "code",
   "execution_count": 30,
   "metadata": {
    "collapsed": false
   },
   "outputs": [
    {
     "name": "stdout",
     "output_type": "stream",
     "text": [
      "/Users/Fabian/Documents/Arbeit/AG_SD/repeval2017/repeval2017\n"
     ]
    }
   ],
   "source": [
    "%cd ../repeval2017/"
   ]
  },
  {
   "cell_type": "markdown",
   "metadata": {},
   "source": [
    "Modelle wieder laden:"
   ]
  },
  {
   "cell_type": "code",
   "execution_count": 39,
   "metadata": {
    "collapsed": false
   },
   "outputs": [
    {
     "name": "stdout",
     "output_type": "stream",
     "text": [
      "Object `composition_learning.create_model` not found.\n"
     ]
    },
    {
     "ename": "AttributeError",
     "evalue": "module 'composition_learning' has no attribute 'create_model'",
     "output_type": "error",
     "traceback": [
      "\u001b[0;31m---------------------------------------------------------------------------\u001b[0m",
      "\u001b[0;31mAttributeError\u001b[0m                            Traceback (most recent call last)",
      "\u001b[0;32m<ipython-input-39-fd3068beb7fe>\u001b[0m in \u001b[0;36m<module>\u001b[0;34m()\u001b[0m\n\u001b[1;32m      1\u001b[0m \u001b[0mget_ipython\u001b[0m\u001b[0;34m(\u001b[0m\u001b[0;34m)\u001b[0m\u001b[0;34m.\u001b[0m\u001b[0mmagic\u001b[0m\u001b[0;34m(\u001b[0m\u001b[0;34m'pinfo2 composition_learning.create_model'\u001b[0m\u001b[0;34m)\u001b[0m\u001b[0;34m\u001b[0m\u001b[0m\n\u001b[0;32m----> 2\u001b[0;31m \u001b[0mtensor_model\u001b[0m \u001b[0;34m=\u001b[0m \u001b[0mcomposition_learning\u001b[0m\u001b[0;34m.\u001b[0m\u001b[0mcreate_model\u001b[0m\u001b[0;34m(\u001b[0m\u001b[0mcomposition_mode\u001b[0m \u001b[0;34m=\u001b[0m \u001b[0;34m'tensor_mult_identity'\u001b[0m\u001b[0;34m)\u001b[0m\u001b[0;34m\u001b[0m\u001b[0m\n\u001b[0m",
      "\u001b[0;31mAttributeError\u001b[0m: module 'composition_learning' has no attribute 'create_model'"
     ]
    }
   ],
   "source": [
    "tensor_model = composition_learning.create_model(composition_mode = 'tensor_mult_identity')\n",
    "tensor_model.load_weights(\"../models/tensor_model_weights\")\n",
    "weighted_model = composition_learning.create_model(composition_mode = 'weighted_adj_and_noun_add_identity')\n",
    "weighted_model.load_weights(\"../models/weighted_model_weights\")\n",
    "weighted_model.name = \"weighted_model\"\n",
    "tensor_model.name = \"tensor_model\""
   ]
  },
  {
   "cell_type": "markdown",
   "metadata": {},
   "source": [
    "Um mit den Modellen Vektoren zu berechnen, tut man folgendes:"
   ]
  },
  {
   "cell_type": "code",
   "execution_count": null,
   "metadata": {
    "collapsed": true
   },
   "outputs": [],
   "source": [
    "goal_noun, noun, adj = gnoun_noun_adj_list[0]\n",
    "\n",
    "\n",
    "goal_noun_tensor_vector = tensor_model.predict(np.asarray([[vectorspace[adj], vectorspace[noun]]]))[0, 0]\n",
    "goal_noun_weighted_add_vector = weighted_model.predict(np.asarray([[vectorspace[adj], vectorspace[noun]]]))[0]"
   ]
  },
  {
   "cell_type": "markdown",
   "metadata": {
    "collapsed": true
   },
   "source": [
    "### Evaluierung"
   ]
  },
  {
   "cell_type": "markdown",
   "metadata": {},
   "source": [
    "Lade Datensatz von hier: http://jair.org/media/3640/live-3640-6413-jair.txt"
   ]
  },
  {
   "cell_type": "code",
   "execution_count": 3,
   "metadata": {
    "collapsed": false
   },
   "outputs": [
    {
     "name": "stdout",
     "output_type": "stream",
     "text": [
      "/Users/Fabian/Documents/Arbeit/AG_SD/repeval2017/data\n",
      "--2017-04-06 10:53:48--  http://jair.org/media/3640/live-3640-6413-jair.txt\n",
      "Resolving jair.org... 141.213.4.6\n",
      "Connecting to jair.org|141.213.4.6|:80... connected.\n",
      "HTTP request sent, awaiting response... 200 OK\n",
      "Length: 191220 (187K) [text/plain]\n",
      "Saving to: 'live-3640-6413-jair.txt'\n",
      "\n",
      "live-3640-6413-jair 100%[=====================>] 186.74K   258KB/s   in 0.7s   \n",
      "\n",
      "2017-04-06 10:53:49 (258 KB/s) - 'live-3640-6413-jair.txt' saved [191220/191220]\n",
      "\n",
      "GoogleNews-vectors-negative300.bin  \u001b[34msnli_1.0\u001b[m\u001b[m/\n",
      "live-3640-6413-jair.txt             snli_1.0.zip\n",
      "/Users/Fabian/Documents/Arbeit/AG_SD/repeval2017/repeval2017\n"
     ]
    }
   ],
   "source": [
    "%cd ../data/\n",
    "!wget \"http://jair.org/media/3640/live-3640-6413-jair.txt\"\n",
    "%ls\n",
    "%cd ../repeval2017/"
   ]
  },
  {
   "cell_type": "markdown",
   "metadata": {},
   "source": [
    "Evaluierungsdatensatz einlesen:"
   ]
  },
  {
   "cell_type": "code",
   "execution_count": 6,
   "metadata": {
    "collapsed": false
   },
   "outputs": [
    {
     "name": "stdout",
     "output_type": "stream",
     "text": [
      "680\n",
      "1500\n"
     ]
    }
   ],
   "source": [
    "import csv\n",
    "path_to_eval_file = \"../data/live-3640-6413-jair.txt\"\n",
    "data = []\n",
    "with open(path_to_eval_file, \"r\") as tsv_file:\n",
    "    tsv_reader = csv.reader(tsv_file, delimiter='|')\n",
    "    i = 0    \n",
    "    for row in tsv_reader:\n",
    "        if row[0][0] != '#':\n",
    "            data.append([])\n",
    "            for elem in row:\n",
    "                data[i].append(elem.strip())\n",
    "            i+=1\n",
    "\n",
    "training_data = data[0:680] #Split nach Angabe von Turney\n",
    "test_data = data[680:]\n",
    "print(len(training_data))\n",
    "print(len(test_data))"
   ]
  },
  {
   "cell_type": "code",
   "execution_count": null,
   "metadata": {
    "collapsed": false,
    "scrolled": true
   },
   "outputs": [],
   "source": [
    "from scipy.spatial.distance import cosine\n",
    "import sys\n",
    "\n",
    "def compute_distances_to_candidates(model, vector_space, sample):\n",
    "    #print(\"Processing {}\".format(sample))\n",
    "    distances = []\n",
    "    not_in_vector_space = []\n",
    "    \n",
    "    phrase = sample[0]\n",
    "    adj,noun = phrase.split()\n",
    "    # berechne phrasenvektor mit modell\n",
    "    try:\n",
    "        \n",
    "        if model.name == 'weighted_model': phrase_vec = model.predict(np.asarray([[vector_space[adj], vector_space[noun]]]))[0]\n",
    "        elif model.name == 'tensor_model': phrase_vec = model.predict(np.asarray([[vector_space[adj], vector_space[noun]]]))[0,0]\n",
    "    except:\n",
    "        #print(\"{} or {} not in vectorspace\".format(adj, noun))\n",
    "        not_in_vector_space.append([adj,noun])\n",
    "        return distances\n",
    "    \n",
    "    #print(np.shape(phrase_vec))\n",
    "\n",
    "    for i in range(1,len(sample)):\n",
    "        # berechne vektoren für alle targets per look up\n",
    "        try:\n",
    "            #print(sample[i], type(sample[i]))\n",
    "            \n",
    "            target_vec = vector_space[sample[i]]\n",
    "            distance = cosine(phrase_vec, target_vec)\n",
    "            distances.append((sample[i], distance))\n",
    "        except KeyError as e:\n",
    "            distances.append((sample[i], np.infty))#wörter, die nicht im vektorraum enthalten sind, werden als unendlich weit weg behandelt\n",
    "            not_in_vector_space.append(sample[i])\n",
    "            #print(\"{} is not in vectorspace\".format(sample[i]))\n",
    "            \n",
    "    #sortiere nach distanz\n",
    "    sorted_distances = sorted(distances, key=lambda x:x[1], reverse=False)\n",
    "    #print(sorted_distances)\n",
    "    return sorted_distances\n",
    "    \n",
    "def eval_model(model, vector_space, test_data, mode='average_rank'):\n",
    "    if mode == 'average_rank':\n",
    "        ranks = []\n",
    "        empty_list_counter = 0\n",
    "        for sample in test_data:\n",
    "            distances = compute_distances_to_candidates(model, vector_space, sample)\n",
    "            if distances:\n",
    "                for i in range(0, len(distances)):\n",
    "                    if distances[i][0] == sample[1]: #find rank of gold label\n",
    "                        #print(distances)\n",
    "                        ranks.append(i)\n",
    "            else:\n",
    "                empty_list_counter += 1\n",
    "                \n",
    "        print(\"Could not compute rank in {} of {} cases due to empty distance lists.\\n(Probably due to words not appearing in the embedding space.)\".format(empty_list_counter, len(test_data)))\n",
    "        return np.mean(ranks)\n",
    "    elif mode == 'turney_eval':\n",
    "        correct_counter = 0\n",
    "        empty_list_counter = 0\n",
    "        for sample in test_data:\n",
    "            distances = compute_distances_to_candidates(model, vector_space, sample)\n",
    "            if distances and distances[0][0] == sample[1]: #gold label is rank 1\n",
    "                correct_counter += 1\n",
    "            else:\n",
    "                empty_list_counter += 1\n",
    "                \n",
    "        print(\"Could not compute rank in {} of {} cases due to empty distance lists.\\n(Probably due to words not appearing in the embedding space.)\".format(empty_list_counter, len(test_data)))\n",
    "        return (correct_counter / len(test_data))\n",
    "print(\"--------------------------\") \n",
    "print(\"{}: Average rank of the gold label: {}\".format(weighted_model.name.upper(), eval_model(weighted_model, vector_space, test_data)))\n",
    "print(\"--------------------------\")\n",
    "print(\"{}: Accuracy of the model: {}\".format(weighted_model.name.upper(), eval_model(weighted_model, vector_space, test_data)))\n",
    "print(\"--------------------------\") \n",
    "print(\"{}: Average rank of the gold label: {}\".format(tensor_model.name.upper(), eval_model(tensor_model, vector_space, test_data)))\n",
    "print(\"--------------------------\")\n",
    "print(\"{}: Accuracy of the model: {}\".format(tensor_model.name.upper(), eval_model(tensor_model, vector_space, test_data)))\n",
    "        # implementiere zweite evaluationsversionen die matthias vorgeschlagen hat\n"
   ]
  },
  {
   "cell_type": "code",
   "execution_count": null,
   "metadata": {
    "collapsed": true
   },
   "outputs": [],
   "source": []
  }
 ],
 "metadata": {
  "kernelspec": {
   "display_name": "Python 3",
   "language": "python",
   "name": "python3"
  },
  "language_info": {
   "codemirror_mode": {
    "name": "ipython",
    "version": 3
   },
   "file_extension": ".py",
   "mimetype": "text/x-python",
   "name": "python",
   "nbconvert_exporter": "python",
   "pygments_lexer": "ipython3",
   "version": "3.6.0"
  }
 },
 "nbformat": 4,
 "nbformat_minor": 0
}
