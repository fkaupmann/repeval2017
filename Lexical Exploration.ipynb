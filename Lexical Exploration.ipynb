{
 "cells": [
  {
   "cell_type": "markdown",
   "metadata": {},
   "source": [
    "## Exploration of explicitly encoding Lexical Patterns into Neural Models"
   ]
  },
  {
   "cell_type": "code",
   "execution_count": null,
   "metadata": {
    "collapsed": true
   },
   "outputs": [],
   "source": [
    "%load_ext autoreload\n",
    "%autoreload 2"
   ]
  },
  {
   "cell_type": "code",
   "execution_count": null,
   "metadata": {
    "collapsed": true
   },
   "outputs": [],
   "source": [
    "%ls"
   ]
  },
  {
   "cell_type": "code",
   "execution_count": null,
   "metadata": {
    "collapsed": true
   },
   "outputs": [],
   "source": [
    "%ls .."
   ]
  },
  {
   "cell_type": "code",
   "execution_count": null,
   "metadata": {
    "collapsed": true
   },
   "outputs": [],
   "source": [
    "import numpy as np\n",
    "import h5py\n",
    "import composition_learning\n",
    "from gensim.models import KeyedVectors as embedding_model"
   ]
  },
  {
   "cell_type": "markdown",
   "metadata": {},
   "source": [
    "Zunächst erstmal Zielnomen, Nomen, Adjektive aus tsv-File laden"
   ]
  },
  {
   "cell_type": "code",
   "execution_count": null,
   "metadata": {
    "collapsed": true
   },
   "outputs": [],
   "source": [
    "import csv\n",
    "path_to_adj_noun_file = \"../data/amod.train.filtered\"\n",
    "gnoun_noun_adj_list = [] #a list of lists, each sublist containing a goal-noun, noun, adjective triple\n",
    "goal_noun_list = [] #only the goal nouns, needed for functions from composition_learning.py.\n",
    "with open(path_to_adj_noun_file, \"r\") as tsv_file:\n",
    "    tsv_reader = csv.reader(tsv_file, delimiter='\\t')\n",
    "    for row in tsv_reader:\n",
    "        gnoun_noun_adj_list.append(row)\n",
    "        goal_noun_list.append(row[0].upper())"
   ]
  },
  {
   "cell_type": "markdown",
   "metadata": {},
   "source": [
    "Danach Word Embeddings aus Modell laden:"
   ]
  },
  {
   "cell_type": "code",
   "execution_count": null,
   "metadata": {
    "collapsed": true
   },
   "outputs": [],
   "source": [
    "path_to_word_embeddings = \"../data/GoogleNews-vectors-negative300.bin\"\n",
    "vector_space = embedding_model.load_word2vec_format(path_to_word_embeddings, binary=True)"
   ]
  },
  {
   "cell_type": "markdown",
   "metadata": {},
   "source": [
    "Daten in das richtige Format für das Keras-Modell bringen:"
   ]
  },
  {
   "cell_type": "code",
   "execution_count": null,
   "metadata": {
    "collapsed": true
   },
   "outputs": [],
   "source": [
    "training_data, training_labels, not_in_list = composition_learning.construct_data_and_labels(gnoun_noun_adj_list,\n",
    "                                                                                             vector_space,\n",
    "                                                                                             goal_noun_list,\n",
    "                                                                                             verbosity = 0)"
   ]
  },
  {
   "cell_type": "code",
   "execution_count": null,
   "metadata": {
    "collapsed": true
   },
   "outputs": [],
   "source": [
    "f.close()\n",
    "f = h5py.File('../data/lexical_training_data.hdf5', 'w')\n",
    "t_data = f.create_dataset('training_data', data=training_data)\n",
    "t_labels = f.create_dataset('training_labels', data=training_labels)"
   ]
  },
  {
   "cell_type": "code",
   "execution_count": null,
   "metadata": {
    "collapsed": true
   },
   "outputs": [],
   "source": [
    "f = h5py.File('../data/lexical_training_data.hdf5', 'r')\n",
    "t_data = f[\"training_data\"]\n",
    "t_labels = f[\"training_labels\"]\n",
    "np.shape(t_data)\n",
    "np.shape(t_labels)"
   ]
  },
  {
   "cell_type": "code",
   "execution_count": null,
   "metadata": {
    "collapsed": false
   },
   "outputs": [],
   "source": [
    "def training_data_generator(training_data, training_labels, batch_size):\n",
    "    num_batches = int(np.floor(np.shape(training_data)[0] / batch_size))\n",
    "    i=0\n",
    "    while i < num_batches*batch_size:\n",
    "        gen_output = (training_data[i:i+batch_size], training_labels[i:i+batch_size])\n",
    "        #gen_output = ([training_data[i:i+batch_size,0,:],training_data[i:i+batch_size,1,:]], training_labels[i:i+batch_size])\n",
    "        #print(i, np.shape(gen_output))\n",
    "        i += batch_size\n",
    "        if i >= (num_batches*batch_size): i = 0\n",
    "        #print(i)\n",
    "        yield gen_output\n",
    "#TODO: nimmt insgesamt zu wenige samples pro epoche\n"
   ]
  },
  {
   "cell_type": "code",
   "execution_count": null,
   "metadata": {
    "collapsed": true
   },
   "outputs": [],
   "source": [
    "gen = training_data_generator(t_data, t_labels, batch_size=64)\n",
    "print(np.shape(next(gen)[1]))"
   ]
  },
  {
   "cell_type": "markdown",
   "metadata": {},
   "source": [
    "Das Modell trainieren. tensor_model bezeichnet das modell, indem adjektiv mit Tensor zusammen zu einer Matrix multipliziert wird, die dann mit Nomen-vektor multipliziert wird um wieder einen Vektor zu erhalten.\n",
    "weighted_model steht für ein additives Modell mit Gewichtigunsmatrizen für je Adjetiv und Nomen."
   ]
  },
  {
   "cell_type": "code",
   "execution_count": null,
   "metadata": {
    "collapsed": true
   },
   "outputs": [],
   "source": [
    "print(np.shape(gnoun_noun_adj_list))\n",
    "print(len(not_in_list))\n",
    "print(np.shape(training_data), np.shape(training_labels))"
   ]
  },
  {
   "cell_type": "code",
   "execution_count": null,
   "metadata": {
    "collapsed": true
   },
   "outputs": [],
   "source": [
    "tensor_model = composition_learning.train_model(training_data_generator(training_data, training_labels, batch_size=256), \n",
    "                                                samples_per_epoch = np.shape(training_data)[0],\n",
    "                                                composition_mode = 'tensor_mult_identity', verbosity=0)"
   ]
  },
  {
   "cell_type": "code",
   "execution_count": null,
   "metadata": {
    "collapsed": true
   },
   "outputs": [],
   "source": [
    "weighted_model = composition_learning.train_model(training_data_generator(training_data, training_labels, batch_size=256), \n",
    "                                                samples_per_epoch = np.shape(training_data)[0],\n",
    "                                                composition_mode = 'weighted_adj_and_noun_add_identity', verbosity=0)\n"
   ]
  },
  {
   "cell_type": "code",
   "execution_count": null,
   "metadata": {
    "collapsed": false
   },
   "outputs": [],
   "source": [
    "??composition_learning.train_model"
   ]
  },
  {
   "cell_type": "code",
   "execution_count": null,
   "metadata": {
    "collapsed": true
   },
   "outputs": [],
   "source": [
    "weighted_model.name = \"weighted_model\"\n",
    "tensor_model.name = \"tensor_model\""
   ]
  },
  {
   "cell_type": "markdown",
   "metadata": {},
   "source": [
    "Modelle abspeichern für später(funktioniert irgendwie noch nicht, wahrscheinlich wegen eigener layerdefinition):"
   ]
  },
  {
   "cell_type": "code",
   "execution_count": null,
   "metadata": {
    "collapsed": true
   },
   "outputs": [],
   "source": [
    "%mkdir ../models/"
   ]
  },
  {
   "cell_type": "code",
   "execution_count": null,
   "metadata": {
    "collapsed": true
   },
   "outputs": [],
   "source": [
    "weighted_model.save_weights(\"../models/weighted_model_weights\")\n",
    "tensor_model.save_weights(\"../models/tensor_model_weights\")"
   ]
  },
  {
   "cell_type": "code",
   "execution_count": null,
   "metadata": {
    "collapsed": true
   },
   "outputs": [],
   "source": [
    "%cd ../repeval2017/"
   ]
  },
  {
   "cell_type": "markdown",
   "metadata": {},
   "source": [
    "Modelle wieder laden:"
   ]
  },
  {
   "cell_type": "code",
   "execution_count": null,
   "metadata": {
    "collapsed": true
   },
   "outputs": [],
   "source": [
    "tensor_model = composition_learning.create_model(composition_mode = 'tensor_mult_identity')\n",
    "tensor_model.load_weights(\"../models/tensor_model_weights\")\n",
    "weighted_model = composition_learning.create_model(composition_mode = 'weighted_adj_and_noun_add_identity')\n",
    "weighted_model.load_weights(\"../models/weighted_model_weights\")\n",
    "weighted_model.name = \"weighted_model\"\n",
    "tensor_model.name = \"tensor_model\""
   ]
  },
  {
   "cell_type": "markdown",
   "metadata": {},
   "source": [
    "Um mit den Modellen Vektoren zu berechnen, tut man folgendes:"
   ]
  },
  {
   "cell_type": "code",
   "execution_count": null,
   "metadata": {
    "collapsed": false
   },
   "outputs": [],
   "source": [
    "goal_noun, noun, adj = gnoun_noun_adj_list[0]\n",
    "\n",
    "\n",
    "goal_noun_tensor_vector = tensor_model.predict(np.asarray([[vectorspace[adj], vectorspace[noun]]]))[0, 0]\n",
    "goal_noun_weighted_add_vector = weighted_model.predict(np.asarray([[vectorspace[adj], vectorspace[noun]]]))[0]"
   ]
  },
  {
   "cell_type": "markdown",
   "metadata": {
    "collapsed": true
   },
   "source": [
    "### Evaluierung"
   ]
  },
  {
   "cell_type": "markdown",
   "metadata": {},
   "source": [
    "Lade Datensatz von hier: http://jair.org/media/3640/live-3640-6413-jair.txt"
   ]
  },
  {
   "cell_type": "code",
   "execution_count": null,
   "metadata": {
    "collapsed": true
   },
   "outputs": [],
   "source": [
    "%cd ../data/\n",
    "!wget \"http://jair.org/media/3640/live-3640-6413-jair.txt\"\n",
    "%ls\n",
    "%cd ../repeval2017/"
   ]
  },
  {
   "cell_type": "markdown",
   "metadata": {},
   "source": [
    "Evaluierungsdatensatz einlesen:"
   ]
  },
  {
   "cell_type": "code",
   "execution_count": null,
   "metadata": {
    "collapsed": true
   },
   "outputs": [],
   "source": [
    "import csv\n",
    "path_to_eval_file = \"../data/live-3640-6413-jair.txt\"\n",
    "data = []\n",
    "with open(path_to_eval_file, \"r\") as tsv_file:\n",
    "    tsv_reader = csv.reader(tsv_file, delimiter='|')\n",
    "    i = 0    \n",
    "    for row in tsv_reader:\n",
    "        if row[0][0] != '#':\n",
    "            data.append([])\n",
    "            for elem in row:\n",
    "                data[i].append(elem.strip())\n",
    "            i+=1\n",
    "\n",
    "training_data = data[0:680] #Split nach Angabe von Turney\n",
    "test_data = data[680:]\n",
    "print(len(training_data))\n",
    "print(len(test_data))"
   ]
  },
  {
   "cell_type": "code",
   "execution_count": null,
   "metadata": {
    "collapsed": true
   },
   "outputs": [],
   "source": [
    "??complete_vector_space"
   ]
  },
  {
   "cell_type": "code",
   "execution_count": null,
   "metadata": {
    "collapsed": true
   },
   "outputs": [],
   "source": [
    "from scipy.spatial.distance import cosine\n",
    "import sys\n",
    "\n",
    "def compute_distances_to_candidates(model, vector_space, sample, complete_vector_space=False, topn=150):\n",
    "    #print(\"Processing {}\".format(sample))\n",
    "    distances = []\n",
    "    not_in_vector_space = []\n",
    "    \n",
    "    phrase = sample[0]\n",
    "    adj,noun = phrase.split()\n",
    "    # berechne phrasenvektor mit modell\n",
    "    #print(\"Complete_vector_space = {}\".format(complete_vector_space))\n",
    "    try:      \n",
    "        if model.name == 'weighted_model': phrase_vec = model.predict(np.asarray([[vector_space[adj], vector_space[noun]]]))[0]\n",
    "        elif model.name == 'tensor_model': phrase_vec = model.predict(np.asarray([[vector_space[adj], vector_space[noun]]]))[0,0]\n",
    "    except:\n",
    "        not_in_vector_space.append([adj,noun])\n",
    "        return distances\n",
    "    \n",
    "    if complete_vector_space:\n",
    "        #print(np.shape(phrase_vec))\n",
    "        distances = vector_space.most_similar(positive=[phrase_vec], topn=topn)\n",
    "    elif not complete_vector_space:\n",
    "        for i in range(1,len(sample)):\n",
    "            # berechne vektoren für alle targets per look up\n",
    "            try:\n",
    "                target_vec = vector_space[sample[i]]\n",
    "                distance = cosine(phrase_vec, target_vec)\n",
    "                distances.append((sample[i], distance))\n",
    "            except KeyError as e:\n",
    "                distances.append((sample[i], np.infty))#wörter, die nicht im vektorraum enthalten sind, werden als unendlich weit weg behandelt\n",
    "                not_in_vector_space.append(sample[i])\n",
    "                #print(\"{} is not in vectorspace\".format(sample[i]))\n",
    "            \n",
    "    #sortiere nach distanz\n",
    "    sorted_distances = sorted(distances, key=lambda x:x[1], reverse=False)\n",
    "    #print(sorted_distances)\n",
    "    return sorted_distances\n",
    "    \n",
    "def eval_model(model, vector_space, test_data, mode='average_rank', k=1, topn=100):\n",
    "    if mode == 'average_rank':\n",
    "        ranks = []\n",
    "        empty_list_counter = 0\n",
    "        for sample in test_data:            \n",
    "            distances = compute_distances_to_candidates(model, vector_space, sample)\n",
    "            if distances:\n",
    "                for i in range(0, len(distances)):\n",
    "                    if distances[i][0] == sample[1]: #find rank of gold label\n",
    "                        #print(distances)\n",
    "                        ranks.append(i)\n",
    "            else:\n",
    "                empty_list_counter += 1\n",
    "        print(\"Could not compute rank in {} of {} cases due to empty distance lists.\\n(Probably due to words not appearing in the embedding space.)\".format(empty_list_counter, len(test_data)))\n",
    "        return np.mean(ranks)\n",
    "    elif mode == 'average_rank_complete_vectorspace':\n",
    "        ranks = []\n",
    "        for sample in test_data:\n",
    "            distances = compute_distances_to_candidates(model, vector_space, sample, complete_vector_space=True, topn=topn)\n",
    "            if distances:\n",
    "                for i in range(0, len(distances)):\n",
    "                    if distances[i][0] == sample[1]: #find rank of gold label\n",
    "                        #print(distances)\n",
    "                        ranks.append(i)\n",
    "                    else:\n",
    "                        ranks.append(topn + 1)\n",
    "            else:\n",
    "                empty_list_counter += 1\n",
    "        print(\"Could not compute rank in {} of {} cases due to empty distance lists.\\n(Probably due to words not appearing in the embedding space.)\".format(empty_list_counter, len(test_data)))\n",
    "        return np.mean(ranks)\n",
    "    elif mode == 'accuracy':\n",
    "        correct_counter = 0.0\n",
    "        empty_list_counter = 0\n",
    "        for sample in test_data:\n",
    "            distances = compute_distances_to_candidates(model, vector_space, sample)\n",
    "            if distances: \n",
    "                if distances[0][0] == sample[1]: #gold label is rank 1\n",
    "                    correct_counter += 1\n",
    "                else:\n",
    "                    correct_counter += 6/7\n",
    "            else:\n",
    "                empty_list_counter += 1\n",
    "                \n",
    "        print(\"Could not compute rank in {} of {} cases due to empty distance lists.(Probably due to words not appearing in the embedding space.)\".format(empty_list_counter, len(test_data)))\n",
    "        return (correct_counter / (len(test_data) - empty_list_counter))\n",
    "    elif mode == 'precision':\n",
    "        correct_counter = 0\n",
    "        empty_list_counter = 0\n",
    "        for sample in test_data:\n",
    "            distances = compute_distances_to_candidates(model, vector_space, sample)\n",
    "            if distances:\n",
    "                k_nearest = [target for target, distance in distances]\n",
    "                if sample[1] in k_nearest[:k]:\n",
    "                    correct_counter += 1\n",
    "            else:\n",
    "                empty_list_counter += 1\n",
    "        return (correct_counter / (len(test_data) - empty_list_counter))\n",
    "                \n"
   ]
  },
  {
   "cell_type": "code",
   "execution_count": 25,
   "metadata": {
    "collapsed": false
   },
   "outputs": [
    {
     "name": "stdout",
     "output_type": "stream",
     "text": [
      "--------------------------\n",
      "Could not compute rank in 18 of 1500 cases due to empty distance lists.\n",
      "(Probably due to words not appearing in the embedding space.)\n",
      "WEIGHTED_MODEL: Average rank of the gold label: 2.8684210526315788\n",
      "--------------------------\n",
      "Could not compute rank in 18 of 1500 cases due to empty distance lists.(Probably due to words not appearing in the embedding space.)\n",
      "WEIGHTED_MODEL: Accuracy of the model: 0.8575284364758198\n",
      "--------------------------\n",
      "WEIGHTED_MODEL: Precision_at_1 of the model: 0.002699055330634278\n",
      "--------------------------\n",
      "WEIGHTED_MODEL: Precision_at_2 of the model: 0.101889338731444\n",
      "--------------------------\n",
      "WEIGHTED_MODEL: Precision_at_3 of the model: 0.5364372469635628\n",
      "--------------------------\n",
      "Could not compute rank in 18 of 1500 cases due to empty distance lists.\n",
      "(Probably due to words not appearing in the embedding space.)\n",
      "TENSOR_MODEL: Average rank of the gold label: 2.9581646423751686\n",
      "--------------------------\n",
      "Could not compute rank in 18 of 1500 cases due to empty distance lists.(Probably due to words not appearing in the embedding space.)\n",
      "TENSOR_MODEL: Accuracy of the model: 0.8677462887989343\n",
      "--------------------------\n",
      "TENSOR_MODEL: Precision_at_1 of the model: 0.002699055330634278\n",
      "--------------------------\n",
      "TENSOR_MODEL: Precision_at_2 of the model: 0.101889338731444\n",
      "--------------------------\n",
      "TENSOR_MODEL: Precision_at_3 of the model: 0.5364372469635628\n"
     ]
    }
   ],
   "source": [
    "print(\"--------------------------\") \n",
    "print(\"{}: Average rank of the gold label: {}\".format(weighted_model.name.upper(), eval_model(weighted_model, vector_space, test_data, mode='average_rank')))\n",
    "print(\"--------------------------\")\n",
    "print(\"{}: Accuracy of the model: {}\".format(weighted_model.name.upper(), eval_model(weighted_model, vector_space, test_data, mode='accuracy')))\n",
    "print(\"--------------------------\")\n",
    "print(\"{}: Precision_at_1 of the model: {}\".format(weighted_model.name.upper(), eval_model(weighted_model, vector_space, test_data, mode='precision')))\n",
    "print(\"--------------------------\") \n",
    "print(\"{}: Precision_at_2 of the model: {}\".format(weighted_model.name.upper(), eval_model(weighted_model, vector_space, test_data, mode='precision', k=2)))\n",
    "print(\"--------------------------\") \n",
    "print(\"{}: Precision_at_3 of the model: {}\".format(weighted_model.name.upper(), eval_model(weighted_model, vector_space, test_data, mode='precision', k=3)))\n",
    "print(\"--------------------------\") \n",
    "print(\"{}: Average rank of the gold label: {}\".format(tensor_model.name.upper(), eval_model(tensor_model, vector_space, test_data, mode='average_rank')))\n",
    "print(\"--------------------------\")\n",
    "print(\"{}: Accuracy of the model: {}\".format(tensor_model.name.upper(), eval_model(tensor_model, vector_space, test_data, mode='accuracy')))\n",
    "print(\"--------------------------\")\n",
    "print(\"{}: Precision_at_1 of the model: {}\".format(tensor_model.name.upper(), eval_model(weighted_model, vector_space, test_data, mode='precision')))\n",
    "print(\"--------------------------\")\n",
    "print(\"{}: Precision_at_2 of the model: {}\".format(tensor_model.name.upper(), eval_model(weighted_model, vector_space, test_data, mode='precision', k=2)))\n",
    "print(\"--------------------------\")\n",
    "print(\"{}: Precision_at_3 of the model: {}\".format(tensor_model.name.upper(), eval_model(weighted_model, vector_space, test_data, mode='precision', k=3)))\n"
   ]
  },
  {
   "cell_type": "code",
   "execution_count": null,
   "metadata": {
    "collapsed": false
   },
   "outputs": [],
   "source": [
    "print(\"{}: Average rank of the gold label: {} (whole vectorspace!)\".format(weighted_model.name.upper(), eval_model(weighted_model, vector_space, test_data, mode='average_rank_complete_vectorspace')))"
   ]
  },
  {
   "cell_type": "code",
   "execution_count": null,
   "metadata": {
    "collapsed": false
   },
   "outputs": [],
   "source": []
  }
 ],
 "metadata": {
  "kernelspec": {
   "display_name": "Python 3",
   "language": "python",
   "name": "python3"
  },
  "language_info": {
   "codemirror_mode": {
    "name": "ipython",
    "version": 3
   },
   "file_extension": ".py",
   "mimetype": "text/x-python",
   "name": "python",
   "nbconvert_exporter": "python",
   "pygments_lexer": "ipython3",
   "version": "3.6.0"
  }
 },
 "nbformat": 4,
 "nbformat_minor": 0
}
